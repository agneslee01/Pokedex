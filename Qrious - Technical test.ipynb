{
 "cells": [
  {
   "cell_type": "code",
   "execution_count": 1,
   "id": "d4f4f1ee",
   "metadata": {},
   "outputs": [],
   "source": [
    "import requests\n",
    "import pandas as pd"
   ]
  },
  {
   "cell_type": "code",
   "execution_count": 2,
   "id": "8e74ad7b",
   "metadata": {},
   "outputs": [],
   "source": [
    "rest_api = \"https://pokeapi.co/api/v2/pokemon/\""
   ]
  },
  {
   "cell_type": "code",
   "execution_count": 4,
   "id": "59e24788",
   "metadata": {},
   "outputs": [
    {
     "name": "stdout",
     "output_type": "stream",
     "text": [
      "     Number        Name            Type  Height  Weight\n",
      "0         1   Bulbasaur   Grass, Poison       7      69\n",
      "1         2     Ivysaur   Grass, Poison      10     130\n",
      "2         3    Venusaur   Grass, Poison      20    1000\n",
      "3         4  Charmander            Fire       6      85\n",
      "4         5  Charmeleon            Fire      11     190\n",
      "..      ...         ...             ...     ...     ...\n",
      "146     147     Dratini          Dragon      18      33\n",
      "147     148   Dragonair          Dragon      40     165\n",
      "148     149   Dragonite  Dragon, Flying      22    2100\n",
      "149     150      Mewtwo         Psychic      20    1220\n",
      "150     151         Mew         Psychic       4      40\n",
      "\n",
      "[151 rows x 5 columns]\n"
     ]
    }
   ],
   "source": [
    "pokemon_data = []\n",
    "\n",
    "# Loop through the first 151 Pokémon (IDs 1 to 151)\n",
    "for pokemon_id in range(1, 152):\n",
    "    response = requests.get(f\"{rest_api}{pokemon_id}\")\n",
    "    \n",
    "    # Process the data if the request is successful\n",
    "    data = response.json()\n",
    "    \n",
    "    # Extract relevant details\n",
    "    pokemon_name = data[\"name\"].capitalize()\n",
    "    pokemon_id = data[\"id\"]\n",
    "    pokemon_height = data[\"height\"]\n",
    "    pokemon_weight = data[\"weight\"]\n",
    "        \n",
    "    # Extract types (can have one or two types)\n",
    "    pokemon_types = [t['type']['name'].capitalize() for t in data['types']]\n",
    "        \n",
    "    # Append the Pokémon's details to the list\n",
    "    pokemon_data.append({\n",
    "        \"Number\": pokemon_id,\n",
    "        \"Name\": pokemon_name,\n",
    "        \"Type\": ', '.join(pokemon_types),  \n",
    "        \"Height\": pokemon_height,\n",
    "        \"Weight\": pokemon_weight\n",
    "    })\n",
    "\n",
    "\n",
    "# Convert the list of Pokémon data to a pandas DataFrame\n",
    "df = pd.DataFrame(pokemon_data)\n",
    "\n",
    "# Display the DataFrame\n",
    "print(df)"
   ]
  },
  {
   "cell_type": "code",
   "execution_count": 5,
   "id": "774b265f",
   "metadata": {
    "scrolled": true
   },
   "outputs": [
    {
     "name": "stdout",
     "output_type": "stream",
     "text": [
      "\n",
      "Welcome to the Pokédex!\n",
      "1. Display all Pokémon\n",
      "2. Sort Pokémon\n",
      "3. Search Pokémon\n",
      "4. Exit\n",
      "Please choose an option (1-4): 2\n",
      "\n",
      "Sort by: [Number, Name, Type, Height, Weight]\n",
      "Enter the column to sort by: Weight, Height\n",
      "Sort ascending? (yes/no): Yes\n",
      "     Number        Name            Type  Height  Weight\n",
      "0         1   Bulbasaur   Grass, Poison       7      69\n",
      "1         2     Ivysaur   Grass, Poison      10     130\n",
      "2         3    Venusaur   Grass, Poison      20    1000\n",
      "3         4  Charmander            Fire       6      85\n",
      "4         5  Charmeleon            Fire      11     190\n",
      "..      ...         ...             ...     ...     ...\n",
      "146     147     Dratini          Dragon      18      33\n",
      "147     148   Dragonair          Dragon      40     165\n",
      "148     149   Dragonite  Dragon, Flying      22    2100\n",
      "149     150      Mewtwo         Psychic      20    1220\n",
      "150     151         Mew         Psychic       4      40\n",
      "\n",
      "[151 rows x 5 columns]\n",
      "\n",
      "Welcome to the Pokédex!\n",
      "1. Display all Pokémon\n",
      "2. Sort Pokémon\n",
      "3. Search Pokémon\n",
      "4. Exit\n",
      "Please choose an option (1-4): 4\n",
      "Goodbye!\n"
     ]
    }
   ],
   "source": [
    "def display_pokedex(dataframe, sort_by=None, ascending=True):\n",
    "    if sort_by and sort_by in dataframe.columns:\n",
    "        dataframe = dataframe.sort_values(by=sort_by, ascending=ascending)\n",
    "    print(dataframe)\n",
    "\n",
    "# Function to search for Pokémon by Name or Number\n",
    "def search_pokedex(dataframe, query):\n",
    "    if query.isdigit():\n",
    "        # Search by Number\n",
    "        return dataframe[dataframe['Number'] == int(query)]\n",
    "    else:\n",
    "        # Search by Name (case insensitive)\n",
    "        return dataframe[dataframe['Name'].str.contains(query, case=False, na=False)]\n",
    "\n",
    "# Menu to allow users to sort, search, and display the Pokédex\n",
    "def pokedex_menu():\n",
    "    while True:\n",
    "        print(\"\\nWelcome to the Pokédex!\")\n",
    "        print(\"1. Display all Pokémon\")\n",
    "        print(\"2. Sort Pokémon\")\n",
    "        print(\"3. Search Pokémon\")\n",
    "        print(\"4. Exit\")\n",
    "        \n",
    "        choice = input(\"Please choose an option (1-4): \")\n",
    "        \n",
    "        if choice == \"1\":\n",
    "            # Display all Pokémon\n",
    "            display_pokedex(df)\n",
    "        \n",
    "        elif choice == \"2\":\n",
    "            # Sort Pokémon by a column\n",
    "            print(\"\\nSort by: [Number, Name, Type, Height, Weight]\")\n",
    "            sort_by = input(\"Enter the column to sort by: \").capitalize()\n",
    "            order = input(\"Sort ascending? (yes/no): \").lower() == 'yes'\n",
    "            display_pokedex(df, sort_by=sort_by, ascending=order)\n",
    "        \n",
    "        elif choice == \"3\":\n",
    "            # Search for a Pokémon by Name or Number\n",
    "            query = input(\"\\nEnter Pokémon Name or Number to search: \")\n",
    "            result = search_pokedex(df, query)\n",
    "            if result.empty:\n",
    "                print(\"No Pokémon found!\")\n",
    "            else:\n",
    "                print(result)\n",
    "        \n",
    "        elif choice == \"4\":\n",
    "            print(\"Goodbye!\")\n",
    "            break\n",
    "        \n",
    "        else:\n",
    "            print(\"Invalid option. Please try again.\")\n",
    "\n",
    "# Run the Pokédex menu\n",
    "pokedex_menu()"
   ]
  }
 ],
 "metadata": {
  "kernelspec": {
   "display_name": "Python 3 (ipykernel)",
   "language": "python",
   "name": "python3"
  },
  "language_info": {
   "codemirror_mode": {
    "name": "ipython",
    "version": 3
   },
   "file_extension": ".py",
   "mimetype": "text/x-python",
   "name": "python",
   "nbconvert_exporter": "python",
   "pygments_lexer": "ipython3",
   "version": "3.11.5"
  }
 },
 "nbformat": 4,
 "nbformat_minor": 5
}
